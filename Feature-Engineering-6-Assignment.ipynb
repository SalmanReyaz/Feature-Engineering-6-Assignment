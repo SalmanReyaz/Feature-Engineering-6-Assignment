{
 "cells": [
  {
   "cell_type": "markdown",
   "id": "f1d6a04a",
   "metadata": {},
   "source": [
    "# Q1. Pearson correlation coefficient is a measure of the linear relationship between two variables. Suppose you have collected data on the amount of time students spend studying for an exam and their final exam scores. Calculate the Pearson correlation coefficient between these two variables and interpret the result."
   ]
  },
  {
   "cell_type": "raw",
   "id": "c5280c53",
   "metadata": {},
   "source": [
    "To calculate the Pearson correlation coefficient (r) between the amount of time students spend studying for an exam and their final exam scores, you can follow the steps mentioned earlier."
   ]
  },
  {
   "cell_type": "raw",
   "id": "e640ab0c",
   "metadata": {},
   "source": [
    "Study Time (hours): [10, 5, 8, 12, 6]\n",
    "Exam Scores: [90, 75, 85, 95, 80]"
   ]
  },
  {
   "cell_type": "markdown",
   "id": "04c98cf1",
   "metadata": {},
   "source": [
    "\n",
    "## Step 1: Calculate the means (average) for both variables:\n",
    "\n",
    "Mean of Study Time (x̄) = (10 + 5 + 8 + 12 + 6) / 5 = 41 / 5 = 8.2 hours\n",
    "Mean of Exam Scores (ȳ) = (90 + 75 + 85 + 95 + 80) / 5 = 425 / 5 = 85\n"
   ]
  },
  {
   "cell_type": "markdown",
   "id": "e60a74ac",
   "metadata": {},
   "source": [
    "## Step 2: Calculate the differences from the mean for each data point:\n",
    "\n",
    "For Study Time:\n",
    "Differences from Mean = [10 - 8.2, 5 - 8.2, 8 - 8.2, 12 - 8.2, 6 - 8.2] = [1.8, -3.2, -0.2, 3.8, -2.2]\n",
    "\n",
    "For Exam Scores:\n",
    "Differences from Mean = [90 - 85, 75 - 85, 85 - 85, 95 - 85, 80 - 85] = [5, -10, 0, 10, -5]\n"
   ]
  },
  {
   "cell_type": "markdown",
   "id": "723ee3ad",
   "metadata": {},
   "source": [
    "\n",
    "## Step 3: Calculate the product of these differences for each data point:\n",
    "\n",
    "`Product of Differences = [1.8 * 5, -3.2 * -10, -0.2 * 0, 3.8 * 10, -2.2 * -5] = [9, 32, 0, 38, 11]`\n"
   ]
  },
  {
   "cell_type": "markdown",
   "id": "3d73e353",
   "metadata": {},
   "source": [
    "## Step 4: Calculate the sum of squares of the differences for both variables:\n",
    "\n",
    "`Sum of Squares for Study Time (Sx) = (1.8**2 + (-3.2)**2 + (-0.2)**2 + 3.8**2 + (-2.2)**2) = (3.24 + 10.24 + 0.04 + 14.44 + 4.84) = 32.8`\n",
    "\n",
    "`Sum of Squares for Exam Scores (Sy) = (5**2 + (-10)**2 + 0**2 + 10**2 + (-5)**2) = (25 + 100 + 0 + 100 + 25) = 250`\n"
   ]
  },
  {
   "cell_type": "markdown",
   "id": "24171e44",
   "metadata": {},
   "source": [
    "## Step 5: Calculate the sum of the products:\n",
    "\n",
    "`Sum of Products (SP) = 9 + 32 + 0 + 38 + 11 = 90`\n"
   ]
  },
  {
   "cell_type": "markdown",
   "id": "9abe5c40",
   "metadata": {},
   "source": [
    "## Step 6: Calculate the Pearson correlation coefficient (r):\n",
    "\n",
    "`r = SP / √(Sx * Sy) = 90 / √(32.8 * 250) approximately 0.715` \n"
   ]
  },
  {
   "cell_type": "markdown",
   "id": "4a8776cc",
   "metadata": {},
   "source": [
    "\n",
    "# If r is close to 1, it indicates a strong positive linear relationship between the variables (as study time increases, exam scores tend to increase).\n",
    "\n",
    "# If r is close to -1, it indicates a strong negative linear relationship (as study time increases, exam scores tend to decrease).\n",
    "\n",
    "# If r is close to 0, it suggests little to no linear relationship between the variables."
   ]
  },
  {
   "cell_type": "raw",
   "id": "9124f95b",
   "metadata": {},
   "source": [
    "Interpretation:\n",
    "The Pearson correlation coefficient (r) is approximately 0.715. This value falls between -1 and 1. \n",
    "\n",
    "\n",
    "Here's how to interpret it:\n",
    "\n",
    "r is positive (0.715), indicating a positive linear relationship.\n",
    "The closer r is to 1, the stronger the linear relationship. In this case, 0.715 suggests a moderately strong positive linear relationship.\n",
    "\n",
    "Interpretation: As students spend more time studying for the exam, their final exam scores tend to increase. However, keep in mind that correlation does not imply causation, so other factors may also be at play. Additionally, with a larger dataset, you could assess the statistical significance of this correlation."
   ]
  },
  {
   "cell_type": "code",
   "execution_count": null,
   "id": "f18bd199",
   "metadata": {},
   "outputs": [],
   "source": []
  },
  {
   "cell_type": "markdown",
   "id": "2ea26d7d",
   "metadata": {},
   "source": [
    "# Q2. Spearman's rank correlation is a measure of the monotonic relationship between two variables. Suppose you have collected data on the amount of sleep individuals get each night and their overall job satisfaction level on a scale of 1 to 10. Calculate the Spearman's rank correlation between these two variables and interpret the result."
   ]
  },
  {
   "cell_type": "markdown",
   "id": "c4cb2e87",
   "metadata": {},
   "source": [
    "## Step 1 collect data:\n",
    "\n",
    "`Amount of Sleep (hours): [7, 6, 5, 8, 6,]`\n",
    "\n",
    "`Job Satisfaction (1-10): [8, 7, 4, 9, 6]`"
   ]
  },
  {
   "cell_type": "markdown",
   "id": "b71c8bbd",
   "metadata": {},
   "source": [
    "## Step 2: Rank the Data:\n",
    "\n",
    "`Amount of Sleep (Rank): [3, 4, 5, 2, 4]`\n",
    "\n",
    "\n",
    "`Job Satisfaction (Rank): [4, 3, 1, 5, 2]`\n"
   ]
  },
  {
   "cell_type": "markdown",
   "id": "c9048d52",
   "metadata": {},
   "source": [
    "## Step 3: Calculate the Differences in Ranks and Square the Differences:\n",
    "        \n",
    "`Differences (d): [3 - 4 = -1, 4 - 3 = 1, 5 - 1 = 4, 2 - 5 = -3, 4 - 2 = 2]`\n",
    "\n",
    "`Squared Differences (d**2): [1, 1, 16, 9, 4]`\n"
   ]
  },
  {
   "cell_type": "markdown",
   "id": "e6c06aa2",
   "metadata": {},
   "source": [
    "## Step 4: Calculate the Sum of Squares of Differences:\n",
    "\n",
    "`Σ(d**2) = 1 + 1 + 16 + 9 + 4 = 31`\n"
   ]
  },
  {
   "cell_type": "markdown",
   "id": "0fb7551a",
   "metadata": {},
   "source": [
    "## Step 5: Calculate Spearman's Rank Correlation Coefficient:\n",
    "\n",
    "\n",
    "`ρ = 1 - [(6 * Σ(d**2)) / (n * (n**2 - 1))]` \n",
    "\n",
    "\n",
    "\n",
    "ρ = 1 - [(6 * 31) / (5 * (5**2 - 1))]\n",
    "\n",
    "ρ = 1 - [(186) / (5 * 24)]\n",
    "\n",
    "ρ = 1 - (186 / 120)\n",
    "\n",
    "ρ = 1 - 1.55\n",
    "\n",
    "ρ approx -0.55\n"
   ]
  },
  {
   "cell_type": "raw",
   "id": "522cd072",
   "metadata": {},
   "source": [
    "\n",
    "Interpretation:\n",
    "The Spearman's rank correlation coefficient (ρ) is approximately -0.55.\n",
    "\n",
    "\n",
    "Here's how to interpret it:\n",
    "\n",
    "ρ is negative (-0.55), indicating a negative monotonic relationship.\n",
    "A negative correlation suggests that as the amount of sleep individuals get each night decreases, their overall job satisfaction tends to increase, or conversely, as sleep increases, job satisfaction tends to decrease."
   ]
  },
  {
   "cell_type": "code",
   "execution_count": null,
   "id": "cdab4b4b",
   "metadata": {},
   "outputs": [],
   "source": []
  },
  {
   "cell_type": "markdown",
   "id": "d37f7ca9",
   "metadata": {},
   "source": [
    "## Q3. Suppose you are conducting a study to examine the relationship between the number of hours of exercise per week and body mass index (BMI) in a sample of adults. You collected data on both variables for 50 participants. Calculate the Pearson correlation coefficient and the Spearman's rank correlation between these two variables and compare the results."
   ]
  },
  {
   "cell_type": "markdown",
   "id": "3ec0fccc",
   "metadata": {},
   "source": [
    "## To examine the relationship between the number of hours of exercise per week and body mass index (BMI) in a sample of adults, we can calculate both the Pearson correlation coefficient and the Spearman's rank correlation coefficient. These two correlation coefficients assess different aspects of the relationship between variables."
   ]
  },
  {
   "cell_type": "raw",
   "id": "64ca6628",
   "metadata": {},
   "source": [
    "Step 1: Collect Data\n",
    "- Ensure you have collected data on both variables (hours of exercise per week and BMI) for 50 participants.\n",
    "\n",
    "Step 2:\n",
    "\n",
    "Calculate Pearson Correlation Coefficient (r):\n",
    "\n",
    "1. Calculate the means (average) for both variables:\n",
    "\n",
    "   - Mean of Exercise Hours (x̄)\n",
    "   - Mean of BMI (ȳ)\n",
    "\n",
    "2. Calculate the differences from the mean for each data point for both variables (exercise hours and BMI).\n",
    "\n",
    "3. Calculate the product of these differences for each data point.\n",
    "\n",
    "4. Calculate the sum of squares of differences for both variables.\n",
    "\n",
    "5. Calculate the Pearson correlation coefficient (r) using the formula:\n",
    "\n",
    "   r = SP / √(Sx * Sy)\n",
    "\n",
    "\n",
    "Step 3: Calculate Spearman's Rank Correlation Coefficient (ρ):\n",
    "\n",
    "1. Rank both variables separately for all 50 participants.\n",
    "\n",
    "2. Calculate the differences in ranks for both variables.\n",
    "\n",
    "3. Square the differences in ranks for each data point.\n",
    "\n",
    "4. Calculate the sum of squares of differences in ranks.\n",
    "\n",
    "\n",
    "\n",
    "5. Calculate Spearman's rank correlation coefficient (ρ) using the formula:\n",
    "\n",
    "   ρ = 1 - [(6 * Σ(d**2)) / (n * (n**2 - 1))]\n",
    "\n",
    "   Where:\n",
    "   - Σ(d**2) is the sum of squared differences in ranks.\n",
    "   - n is the number of data points (50 in this case).\n",
    "   \n",
    "   \n",
    "\n"
   ]
  },
  {
   "cell_type": "markdown",
   "id": "ec104459",
   "metadata": {},
   "source": [
    "## Step 4: Compare the Results:\n",
    "\n",
    "- If both r and ρ are close to 1, it indicates a strong positive linear relationship.\n",
    "- If both r and ρ are close to -1, it indicates a strong negative linear relationship.\n",
    "- If r and ρ differ significantly, it suggests a nonlinear relationship or the presence of outliers.\n",
    "\n",
    "Let's assume you have calculated the correlation coefficients and obtained the following results:\n",
    "\n",
    "- Pearson correlation coefficient (r) ≈ 0.65\n",
    "- Spearman's rank correlation coefficient (ρ) ≈ 0.60\n",
    "\n",
    "Interpretation and Comparison:\n",
    "\n",
    "- Both r and ρ are positive, indicating a positive relationship between the number of hours of exercise per week and BMI.\n",
    "- r and ρ are relatively close in value, which suggests a reasonably strong positive relationship.\n",
    "- The similarity between the two correlation coefficients suggests that the relationship between exercise hours and BMI is approximately linear. However, it's essential to remember that correlation does not imply causation, and other factors may influence BMI.\n",
    "\n",
    "In this hypothetical scenario, both Pearson and Spearman correlation coefficients suggest a positive relationship between exercise hours and BMI, with similar strengths of association."
   ]
  },
  {
   "cell_type": "code",
   "execution_count": null,
   "id": "e9792eca",
   "metadata": {},
   "outputs": [],
   "source": []
  },
  {
   "cell_type": "markdown",
   "id": "21f55c8a",
   "metadata": {},
   "source": [
    "# `Q4. A researcher is interested in examining the relationship between the number of hours individuals spend watching television per day and their level of physical activity. The researcher collected data on both variables from a sample of 50 participants. Calculate the Pearson correlation coefficient between these two variables.`"
   ]
  },
  {
   "cell_type": "markdown",
   "id": "a932841d",
   "metadata": {},
   "source": [
    "## To calculate the Pearson correlation coefficient (r) between the number of hours individuals spend watching television per day and their level of physical activity for a sample of 50 participants,"
   ]
  },
  {
   "cell_type": "markdown",
   "id": "a39ebecb",
   "metadata": {},
   "source": [
    "## Step 1: Collect Data\n",
    "`Ensure you have collected data on both variables, which are the number of hours spent watching television per day and the level of physical activity, for all 50 participants.`"
   ]
  },
  {
   "cell_type": "markdown",
   "id": "1aa5308c",
   "metadata": {},
   "source": [
    "## Step 2: Calculate Pearson Correlation Coefficient (r):\n",
    "\n",
    "`Calculate the means (average) for both variables:`\n",
    "\n",
    "Mean of TV Hours (x̄)\n",
    "Mean of Physical Activity Level (ȳ)\n",
    "Calculate the differences from the mean for each data point for both variables (TV hours and physical activity level).\n",
    "\n",
    "Calculate the product of these differences for each data point.\n",
    "\n",
    "Calculate the sum of squares of differences for both variables.\n",
    "\n",
    "Calculate the Pearson correlation coefficient (r) using the formula:\n",
    "\n",
    "r = SP / √(Sx * Sy)"
   ]
  },
  {
   "cell_type": "markdown",
   "id": "e48a8dac",
   "metadata": {},
   "source": [
    "`Assume we have the following data for a sample of 50 participants:`\n",
    "\n",
    "\n",
    "### TV Hours per Day: [2, 3, 4, 1, 5, ...] (50 data points)\n",
    "###  Physical Activity Level: [3, 2, 4, 5, 1, ...] (50 data points)\n",
    "\n",
    "\n",
    "# `Calculate the means (average) for both variables:`\n",
    "\n",
    "\n",
    "\n",
    "\n",
    "`Mean of TV Hours (x̄) = (Sum of TV Hours) / 50`\n",
    "\n",
    "\n",
    "\n",
    "`Mean of Physical Activity Level (ȳ) = (Sum of Physical Activity Levels) / 50`\n"
   ]
  },
  {
   "cell_type": "markdown",
   "id": "62d6ad16",
   "metadata": {},
   "source": [
    "Calculate the differences from the mean for each data point for both variables (TV hours and physical activity level).\n",
    "\n",
    "Calculate the product of these differences for each data point.\n",
    "\n",
    "Calculate the sum of squares of differences for both variables.\n",
    "\n",
    "\n",
    "Calculate the Pearson correlation coefficient (r) using the formula:\n",
    "\n",
    "\n",
    "## r = SP / √(Sx * Sy)\n"
   ]
  },
  {
   "cell_type": "raw",
   "id": "dc5213c8",
   "metadata": {},
   "source": [
    "Substitute the values of SP, Sx, and Sy from the calculations above into the formula to obtain the value of r. The resulting r value will indicate the strength and direction of the linear relationship between the number of hours spent watching television per day and the level of physical activity.\n",
    "\n",
    "Interpretation:\n",
    "\n",
    "If r is close to 1, it indicates a strong positive linear relationship (as TV hours increase, physical activity tends to increase).\n",
    "If r is close to -1, it indicates a strong negative linear relationship (as TV hours increase, physical activity tends to decrease).\n",
    "If r is close to 0, it suggests little to no linear relationship between the variables."
   ]
  },
  {
   "cell_type": "code",
   "execution_count": null,
   "id": "ba4c447b",
   "metadata": {},
   "outputs": [],
   "source": []
  },
  {
   "cell_type": "markdown",
   "id": "69747a43",
   "metadata": {},
   "source": [
    "# Q5. A survey was conducted to examine the relationship between age and preference for a particular brand of soft drink. The survey results are shown below:"
   ]
  },
  {
   "attachments": {
    "image.png": {
     "image/png": "[encoded data removed]"
    }
   },
   "cell_type": "markdown",
   "id": "982ba10c",
   "metadata": {},
   "source": [
    "![image.png](attachment:image.png)"
   ]
  },
  {
   "cell_type": "markdown",
   "id": "921ef97a",
   "metadata": {},
   "source": [
    "`Age (Years): 25, 42, 37, 19, 31, 28`\n",
    "\n",
    "\n",
    "`Soft Drink Preferences: Coke, Pepsi, Mountain Dew, Coke, Pepsi, Coke`"
   ]
  },
  {
   "cell_type": "markdown",
   "id": "ee626a2e",
   "metadata": {},
   "source": [
    "## Age and Soft Drink Preferences:\n",
    "\n",
    "\n",
    "\n",
    "`Count the number of individuals for each soft drink preference:`\n",
    "\n",
    "__Coke: 3 people__\n",
    "\n",
    "__Pepsi: 2 people__\n",
    "\n",
    "__Mountain Dew: 1 person__\n",
    "\n",
    "__Calculate summary statistics for the ages:__\n",
    "\n",
    "`Mean (average) age:\n",
    "\n",
    "`Sum of ages / Number of ages = (25 + 42 + 37 + 19 + 31 + 28) / 6 ≈ 30.3 years (approximately)` \n",
    "\n",
    "`Median (middle) age: The median is the middle value when the data is sorted.` \n",
    "\n",
    "`In this case, the ages sorted in ascending order are [19, 25, 28, 31, 37, 42], so the median age is 31 years`"
   ]
  },
  {
   "cell_type": "raw",
   "id": "0313b146",
   "metadata": {},
   "source": [
    "Observations:\n",
    "\n",
    "Among the individuals for whom you have provided both age and soft drink preferences, Coke is the most preferred soft drink, followed by Pepsi, and then Mountain Dew.\n",
    "The mean age of the individuals is approximately 30.3 years, and the median age is 31 years.\n",
    "It's important to note that this analysis is based on a limited dataset, and additional data would be needed to make more comprehensive conclusions about the relationship between age and soft drink preferences in a broader population. Additionally, you may consider conducting statistical tests to determine if there is a significant association between age and soft drink preference in your survey data."
   ]
  },
  {
   "cell_type": "code",
   "execution_count": null,
   "id": "825057c5",
   "metadata": {},
   "outputs": [],
   "source": []
  },
  {
   "cell_type": "markdown",
   "id": "ad990f02",
   "metadata": {},
   "source": [
    "## Q6. A company is interested in examining the relationship between the number of sales calls made per day and the number of sales made per week. The company collected data on both variables from a sample of 30 sales representatives. Calculate the Pearson correlation coefficient between these two variables."
   ]
  },
  {
   "cell_type": "markdown",
   "id": "ee838355",
   "metadata": {},
   "source": [
    "## To calculate the Pearson correlation coefficient (r) between the number of sales calls made per day and the number of sales made per week for a sample of 30 sales representatives, "
   ]
  },
  {
   "cell_type": "markdown",
   "id": "8c928688",
   "metadata": {},
   "source": [
    "Step 1: Collect Data\n",
    "\n",
    "Ensure we have collected data on both variables, which are the number of sales calls made per day and the number of sales made per week, for all 30 sales representatives.\n",
    "\n",
    "\n",
    "Step 2: Calculate Pearson Correlation Coefficient (r):\n",
    "\n",
    "\n",
    "Calculate the means (average) for both variables:\n",
    "\n",
    "Mean of Sales Calls per Day (x̄)\n",
    "Mean of Sales per Week (ȳ)\n",
    "\n",
    "\n",
    "Calculate the differences from the mean for each data point for both variables (sales calls per day and sales per week).\n",
    "\n",
    "Calculate the product of these differences for each data point.\n",
    "\n",
    "Calculate the sum of squares of differences for both variables.\n",
    "\n",
    "\n",
    "Calculate the Pearson correlation coefficient (r) using the formula:\n",
    "\n",
    "## r = SP / √(Sx * Sy)\n",
    "\n",
    "\n",
    "\n",
    "## Assume you have the following data for your 30 sales representatives:\n",
    "\n",
    "`Sales Calls per Day: [10, 15, 12, 8, 11, ...] (30 data points)`\n",
    "\n",
    "\n",
    "`Sales per Week: [20, 30, 25, 15, 22, ...] (30 data points)`"
   ]
  },
  {
   "cell_type": "markdown",
   "id": "9f5ec80c",
   "metadata": {},
   "source": [
    "## Calculate the means (average) for both variables:\n",
    "\n",
    "`Mean of Sales Calls per Day (x̄) = (Sum of Sales Calls per Day) / 30`\n",
    "\n",
    "\n",
    "`Mean of Sales per Week (ȳ) = (Sum of Sales per Week) / 30`\n"
   ]
  },
  {
   "cell_type": "markdown",
   "id": "054556ae",
   "metadata": {},
   "source": [
    "Calculate the differences from the mean for each data point for both variables (sales calls per day and sales per week).\n",
    "\n",
    "Calculate the product of these differences for each data point.\n",
    "\n",
    "Calculate the sum of squares of differences for both variables.\n",
    "\n",
    "Calculate the Pearson correlation coefficient (r) using the formula:\n",
    "\n",
    "\n",
    "## r = SP / √(Sx * Sy)\n"
   ]
  },
  {
   "cell_type": "raw",
   "id": "6e164a24",
   "metadata": {},
   "source": [
    "Substitute the values of SP, Sx, and Sy from the calculations above into the formula to obtain the value of r. The resulting r value will indicate the strength and direction of the linear relationship between the number of sales calls made per day and the number of sales made per week.\n",
    "\n",
    "Interpretation:\n",
    "\n",
    "If r is close to 1, it indicates a strong positive linear relationship (as sales calls per day increase, sales per week tend to increase).\n",
    "If r is close to -1, it indicates a strong negative linear relationship (as sales calls per day increase, sales per week tend to decrease).\n",
    "If r is close to 0, it suggests little to no linear relationship between the variables."
   ]
  },
  {
   "cell_type": "code",
   "execution_count": null,
   "id": "675baa90",
   "metadata": {},
   "outputs": [],
   "source": []
  }
 ],
 "metadata": {
  "kernelspec": {
   "display_name": "Python 3 (ipykernel)",
   "language": "python",
   "name": "python3"
  },
  "language_info": {
   "codemirror_mode": {
    "name": "ipython",
    "version": 3
   },
   "file_extension": ".py",
   "mimetype": "text/x-python",
   "name": "python",
   "nbconvert_exporter": "python",
   "pygments_lexer": "ipython3",
   "version": "3.9.12"
  }
 },
 "nbformat": 4,
 "nbformat_minor": 5
}
